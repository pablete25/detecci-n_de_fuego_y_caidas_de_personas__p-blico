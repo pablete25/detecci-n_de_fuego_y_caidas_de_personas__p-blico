{
 "cells": [
  {
   "cell_type": "markdown",
   "metadata": {},
   "source": [
    "# Detección de fuego y caidas de personas con YOLOV8"
   ]
  },
  {
   "cell_type": "markdown",
   "metadata": {},
   "source": [
    "## 1. Introducción y Objetivo del proyecto"
   ]
  },
  {
   "cell_type": "markdown",
   "metadata": {},
   "source": [
    "El objetivo del proyecto es desarrollar un programa que detecte fuego y caidas de personas en tiempo real , cuando ocurra alguna de estas dos cosas nos debe avisar mandando un mensaje al teléfono móvil. Para la detección del fuego a tiempo real vamos a utilizar OpenCV con YOLO v8. Para que nos avise avise el telefono vamos emplear la API de telegram para recibir un mensaje a nuestro Telegram. Al detectar fuego, también se activara un alarma de emergencia de forma local. Para detectar la caida de personas vamos a utilizar el modelo de YOLOv8s sin entrenar y operaremos sobre el mismo en la clase personas.\n",
    "\n",
    "Para la detección de fuego, podremos usar dos modelos preentrenados de YOLO v8:\n",
    "- Modelo de detección de fuego.\n",
    "- Modelo de detección de fuego y humo.\n",
    "\n",
    "El programa esta pensado para la monitorización de casas donde viven personas dependientes, como ancianos o minusvalidos. "
   ]
  },
  {
   "cell_type": "markdown",
   "metadata": {},
   "source": [
    "## 2. Estructura del proyecto"
   ]
  },
  {
   "cell_type": "markdown",
   "metadata": {},
   "source": [
    "El proyecto se divide en 3 partes:\n",
    "- La primera parte es la instalación de librerias, dependencias y creación de funciones compartidas para la detección de fuego y caida.\n",
    "- La segunda parte es la detección del fuego, donde primero tendremos un programa que visualiza en tiempo real si hay fuego o no y después se elaborara un programa donde se visualice en tiempo y real y avise por mensaje de texto y alarma local si hay fuego.\n",
    "- La tercera parte es la detección de caida de personas, donde se desarrollara un programa para detectar la caida de personas en tiempo real y se añadirá la funcionalidad de que nos avise a través de un mensaje al teléfono."
   ]
  },
  {
   "cell_type": "markdown",
   "metadata": {},
   "source": [
    "## 3. Instalación de dependencias"
   ]
  },
  {
   "cell_type": "markdown",
   "metadata": {},
   "source": [
    "### 3.1. Instalación de las librerias "
   ]
  },
  {
   "cell_type": "code",
   "execution_count": null,
   "metadata": {},
   "outputs": [],
   "source": [
    "pip install -r requirements.txt"
   ]
  },
  {
   "cell_type": "markdown",
   "metadata": {},
   "source": [
    "### 3.2. Importación de las librerias"
   ]
  },
  {
   "cell_type": "code",
   "execution_count": null,
   "metadata": {
    "scrolled": true
   },
   "outputs": [],
   "source": [
    "from ultralytics import YOLO #importamos YOLO de la libreria de ultralytics para la detección de fuego\n",
    "import cv2 #Importamos OpenCV para poder capturar las imagenes, visualizarlas y emplear YOLO en la detección de fuego\n",
    "import threading #Importamos esta libreria para paralelizar procesos o funciones del programa en diferentes nucleos\n",
    "import playsound #Importamos esta libreria para la función de alarma\n",
    "import telebot #Importamos la libreria telebot para poder utilizar la API de Telegram y recibir el mensaje de alerta de fuego\n",
    "import math #Importamos la liberia de matemáticas de python para calculos simples\n",
    "import cvzone #Importamos la libreria CVZONE para poder trabajar de forma más sencilla con OpenCV y sobreescribir objetos visibles"
   ]
  },
  {
   "cell_type": "markdown",
   "metadata": {},
   "source": [
    "### 3.3. Obtener Token de Telegram"
   ]
  },
  {
   "cell_type": "markdown",
   "metadata": {},
   "source": [
    "Para obtener el ID de chat y el token de tu bot en Telegram, sigue estos pasos:\n",
    "\n",
    "1. Crear un nuevo bot en BotFather:\n",
    "\n",
    "-Abre Telegram y busca \"BotFather\".\n",
    "\n",
    "-Inicia una conversación con BotFather.\n",
    "\n",
    "-Usa el comando /newbot para crear un nuevo bot.\n",
    "\n",
    "-Sigue las instrucciones de BotFather para asignar un nombre y un nombre de usuario a tu bot.\n",
    "\n",
    "-BotFather te proporcionará un token único para tu bot. Guárdalo, ya que lo necesitarás para autorizar a tu script a enviar mensajes.\n",
    "\n",
    "2. Obtener el ID de chat:\n",
    "\n",
    "-Inicia una conversación con tu nuevo bot en Telegram.\n",
    "\n",
    "-Envía cualquier mensaje al bot.\n",
    "\n",
    "-Abre tu navegador web y accede a la siguiente URL, reemplazando <TOKEN> con el token de tu bot: \n",
    "\n",
    "-https://api.telegram.org/bot<TOKEN>/getUpdates\n",
    "\n",
    "    -Ejemplo: https://api.telegram.org/bot1234567890:ABCDEFGHIJKLM/getUpdates\n",
    "    \n",
    "-Busca el campo \"chat\" en la respuesta JSON. El valor asociado con la clave \"id\" es el ID de chat.\n",
    "\n",
    "3. Actualizar el script con la información obtenida:\n",
    "\n",
    "-Sustituye 'tu_token_telegram' con el token que obtuviste de BotFather.\n",
    "\n",
    "-Sustituye 'tu_id_chat_telegram' con el ID de chat que obtuviste al enviar un mensaje al bot.\n",
    "\n",
    "Con estos pasos, tu script debería estar configurado para enviar mensajes a través de Telebot a tu cuenta de Telegram. Ten en cuenta que la URL para obtener actualizaciones (getUpdates) es solo para propósitos de obtener el ID de chat, y normalmente no se utiliza en producción. En un entorno de producción, deberías manejar las actualizaciones de manera diferente."
   ]
  },
  {
   "cell_type": "markdown",
   "metadata": {},
   "source": [
    "### 3.4. Función enviar mensaje Telegram"
   ]
  },
  {
   "cell_type": "code",
   "execution_count": null,
   "metadata": {},
   "outputs": [],
   "source": [
    "# Token de tu bot en Telegram\n",
    "telegram_token = 'tu_token_telegram' #Escribe aqui tu token\n",
    "\n",
    "# Inicializar el bot de Telegram\n",
    "bot = telebot.TeleBot(telegram_token)\n",
    "\n",
    "# Función para enviar mensaje de fuego a Telegram utilizando Telebot\n",
    "def enviar_mensaje_fuego_telegram():\n",
    "    chat_id = 'tu_id_chat_telegram' #Escribe aqui tu chat_id\n",
    "    message = \"¡Fuego detectado! Por favor, revisa la transmisión de la cámara.\"\n",
    "\n",
    "    # Enviar mensaje al chat especificado\n",
    "    bot.send_message(chat_id, message)\n",
    "    print(\"Mensaje de aviso de fuego enviado\")\n",
    "    \n",
    "# Función para enviar mensaje de caida a Telegram utilizando Telebot\n",
    "def enviar_mensaje_caida_persona():\n",
    "    chat_id = 'tu_id_chat_telegram' #Escribe aqui tu chat_id\n",
    "    message = \"¡Se ha caido una persona! Por favor, revisa la transmisión de la cámara.\"\n",
    "\n",
    "    # Enviar mensaje al chat especificado\n",
    "    bot.send_message(chat_id, message)\n",
    "    print(\"Mensaje de aviso de caida enviado\")"
   ]
  },
  {
   "cell_type": "markdown",
   "metadata": {},
   "source": [
    "### 3.5. Función alarma por fuego"
   ]
  },
  {
   "cell_type": "code",
   "execution_count": null,
   "metadata": {},
   "outputs": [],
   "source": [
    "# Función definida para reproducir la alarma después de la detección de fuego mediante threading\n",
    "def alarma_incendio():\n",
    "    # Para reproducir la alarma, se proporciona también un archivo de audio MP3 con el código.\n",
    "    playsound.playsound('Alarmas/alarm.mp3', True)"
   ]
  },
  {
   "cell_type": "markdown",
   "metadata": {},
   "source": [
    "## 4. Detección de fuego"
   ]
  },
  {
   "cell_type": "markdown",
   "metadata": {},
   "source": [
    "### 4.1. Programa con el modelo solo fuego"
   ]
  },
  {
   "cell_type": "markdown",
   "metadata": {},
   "source": [
    "#### 4.1.1. Programa para solo visualizar si hay fuego (No ejecutar a la vez con los otros programas)"
   ]
  },
  {
   "cell_type": "code",
   "execution_count": null,
   "metadata": {},
   "outputs": [],
   "source": [
    "if __name__ == '__main__':\n",
    "    \n",
    "    #Realizar videocaptura: Iniciar la cámara, \"0\" para la cámara incorporada y \"1\" para la cámara USB conectada.\n",
    "    #cap = cv2.VideoCapture(0) #visualizar por la webcam en tiempo real \n",
    "    cap = cv2.VideoCapture(\"Videos/fire.mp4\") #visualizar video grabado 1\n",
    "    #cap = cv2.VideoCapture(\"Videos/fire2.mp4\") #visualizar video grabado 2\n",
    "    #cap = cv2.VideoCapture(\"Videos/fire3.mp4\") #visualizar video grabado 3\n",
    "    \n",
    "    #Leer nuestro modelo\n",
    "    model = YOLO(\"Modelos/fire_model.pt\") #seleccionamos el modelo de YOLO y lo instanciamos\n",
    "\n",
    "    while cap.isOpened():\n",
    "        status, frame = cap.read() #iniciamos la captura de imagenes y la guardamos en la variable frame\n",
    "\n",
    "        if not status: #si no hay captura de imagenes, sale del bucle\n",
    "            break\n",
    "\n",
    "        results = model.predict(frame) #pasamos los frames por modelo de YOLO y lo guardamos en la variable result\n",
    "                                              \n",
    "        frame = results[0].plot() #sobreescribimos la variable flame con los resultados ploteados (lo que el modelo detecta) si no tenemos stream activado\n",
    "\n",
    "        cv2.imshow(\"Deteccion de fuego\", frame) #mostramos el frame con los resultados ploteados\n",
    "                  \n",
    "        if cv2.waitKey(1) & 0xFF == ord(\"q\"): #Para cerrar la visualización pulsar la letra \"Q\"\n",
    "            break\n",
    "\n",
    "    cap.release()\n",
    "    cv2.destroyAllWindows()"
   ]
  },
  {
   "cell_type": "markdown",
   "metadata": {},
   "source": [
    "#### 4.1.2. Programa detección de fuego con funciones (Visualización, mensajes y alarma)"
   ]
  },
  {
   "cell_type": "code",
   "execution_count": null,
   "metadata": {},
   "outputs": [],
   "source": [
    "if __name__ == '__main__':\n",
    "    \n",
    "    #Realizar videocaptura: Iniciar la cámara, \"0\" para la cámara incorporada y \"1\" para la cámara USB conectada.\n",
    "    #cap = cv2.VideoCapture(0) #visualizar por la webcam en tiempo real \n",
    "    cap = cv2.VideoCapture(\"Videos/fire.mp4\") #visualizar video grabado 1\n",
    "    #cap = cv2.VideoCapture(\"Videos/fire2.mp4\") #visualizar video grabado 2\n",
    "    #cap = cv2.VideoCapture(\"Videos/fire3.mp4\") #visualizar video grabado 3\n",
    "    \n",
    "    #Leer nuestro modelo\n",
    "    model = YOLO(\"Modelos/fire_model.pt\") #seleccionamos el modelo de YOLO y lo instanciamos\n",
    "\n",
    "    # Se listan las clases que tiene nuestro modelo (en el orden del data.yaml durante el entrenamiento)\n",
    "    classnames = ['fire'] #Solo hay una clase, la clase 'fire' que es el numero [0] (id)\n",
    "    \n",
    "    # Contador global para la clase \"fire\"\n",
    "    fire_count = 0\n",
    "    \n",
    "    while cap.isOpened():\n",
    "        status, frame = cap.read() #iniciamos la captura de imagenes y la guardamos en la variable frame\n",
    "\n",
    "        if not status: \n",
    "            break\n",
    "            \n",
    "        result = model.predict(frame, stream=True) # stream = True -> se utiliza para decir que vamos a iterar sobre los frames\n",
    "        \n",
    "        # Obtener la información de las bounding boxes (bboxes), la confianza y los nombres de clases detectados para operar con ellos. \n",
    "        for info in result:  #Este bucle for itera sobre los resultados de la inferencia realizada con el modelo YOLOv8. Cada elemento de result contiene información sobre las detecciones realizadas en el frame actual.\n",
    "            boxes = info.boxes #Aquí se obtienen todas las bounding boxes detectadas en el frame actual y se almacenan en la variable boxes. \n",
    "                \n",
    "            for box in boxes: #Este segundo bucle for itera sobre cada una de las bounding boxes detectadas.\n",
    "                confidence = box.conf[0] #Se obtiene el valor de confianza de la detección actual y se almacena en la variable confidence.\n",
    "                confidence = math.ceil(confidence * 100) #Se multiplica la confianza por 100 para obtener el porcentaje, y se redondea hacia arriba utilizando la función math.ceil().\n",
    "                Class = int(box.cls[0]) #Se obtiene el índice de la clase detectada y se convierte a entero. Este valor se almacena en la variable Class.\n",
    "                   \n",
    "                if confidence > 10: #Se verifica si la confianza de la detección es mayor al 10%. Si es así, se procede a dibujar la bounding box y mostrar la información en el frame.\n",
    "                    x1, y1, x2, y2 = box.xyxy[0] #Se obtienen las coordenadas de la bounding box (x1, y1, x2, y2) y se asignan a variables individuales.\n",
    "                    x1, y1, x2, y2 = int(x1), int(y1), int(x2), int(y2) #Se convierten las coordenadas a enteros.\n",
    "                    cv2.rectangle(frame, (x1, y1), (x2, y2), (0, 0, 255), 5) #Se dibuja un rectángulo alrededor del objeto detectado en el frame, utilizando las coordenadas de la bounding box y el color rojo (0, 0, 255) con un grosor de 5 píxeles.\n",
    "                    cvzone.putTextRect(frame, f'{classnames[Class]} {confidence}%', [x1 + 8, y1 + 100], scale=1.5, thickness=2) #Se agrega el nombre de la clase detectada y el porcentaje de confianza como texto en el frame, utilizando la biblioteca cvzone.\n",
    "                    fire_count += 1 #aumentamos el contador\n",
    "        \n",
    "                    # Iniciar la alarma en un hilo\n",
    "                    threading.Thread(target=alarma_incendio).start()\n",
    "\n",
    "                    #Mandar mensaje por telegram\n",
    "                    if fire_count == 1: #manda el mensaje si detecta que el contador vale 1\n",
    "                        threading.Thread(target=enviar_mensaje_fuego_telegram).start()\n",
    "                            \n",
    "                    elif fire_count == 440: #El numero se elige dependiendo del tiempo que quieras entre mensajes, en este caso el número 440 son 60s aprox si el fuego es constante.\n",
    "                        threading.Thread(target=enviar_mensaje_fuego_telegram).start()\n",
    "                        fire_count = 2 #resetea el contador a 2        \n",
    "            \n",
    "        cv2.imshow(\"Deteccion de fuego\", frame) #mostramos el frame con los resultados ploteados\n",
    "                  \n",
    "        if cv2.waitKey(1) & 0xFF == ord(\"q\"): #Para cerrar la visualización pulsar la letra \"Q\"\n",
    "            break\n",
    "\n",
    "    cap.release()\n",
    "    cv2.destroyAllWindows()"
   ]
  },
  {
   "cell_type": "markdown",
   "metadata": {},
   "source": [
    "### 4.2. Programa con el modelo fuego y humo"
   ]
  },
  {
   "cell_type": "markdown",
   "metadata": {},
   "source": [
    "#### 4.2.1. Programa para solo visualizar si hay fuego (No ejecutar a la vez con los otros programas)"
   ]
  },
  {
   "cell_type": "code",
   "execution_count": null,
   "metadata": {},
   "outputs": [],
   "source": [
    "if __name__ == '__main__':\n",
    "    \n",
    "    #Realizar videocaptura: Iniciar la cámara, \"0\" para la cámara incorporada y \"1\" para la cámara USB conectada.\n",
    "    #cap = cv2.VideoCapture(0) #visualizar por la webcam en tiempo real \n",
    "    cap = cv2.VideoCapture(\"Videos/fire.mp4\") #visualizar video grabado 1\n",
    "    #cap = cv2.VideoCapture(\"Videos/fire2.mp4\") #visualizar video grabado 2\n",
    "    #cap = cv2.VideoCapture(\"Videos/fire3.mp4\") #visualizar video grabado 3\n",
    "    \n",
    "    #Leer nuestro modelo\n",
    "    model = YOLO(\"Modelos/fire_model.pt\") #seleccionamos el modelo de YOLO y lo instanciamos\n",
    "\n",
    "    while cap.isOpened():\n",
    "        status, frame = cap.read() #iniciamos la captura de imagenes y la guardamos en la variable frame\n",
    "\n",
    "        if not status: #si no hay captura de imagenes, sale del bucle\n",
    "            break\n",
    "\n",
    "        results = model.predict(frame) #pasamos los frames por modelo de YOLO y lo guardamos en la variable result\n",
    "                                              \n",
    "        frame = results[0].plot() #sobreescribimos la variable flame con los resultados ploteados (lo que el modelo detecta) si no tenemos stream activado\n",
    "\n",
    "        cv2.imshow(\"Deteccion de fuego\", frame) #mostramos el frame con los resultados ploteados\n",
    "                  \n",
    "        if cv2.waitKey(1) & 0xFF == ord(\"q\"): #Para cerrar la visualización pulsar la letra \"Q\"\n",
    "            break\n",
    "\n",
    "    cap.release()\n",
    "    cv2.destroyAllWindows()"
   ]
  },
  {
   "cell_type": "markdown",
   "metadata": {},
   "source": [
    "#### 4.2.2. Programa detección de fuego con funciones (Visualización, mensajes y alarma)"
   ]
  },
  {
   "cell_type": "code",
   "execution_count": null,
   "metadata": {},
   "outputs": [],
   "source": [
    "if __name__ == '__main__':\n",
    "    \n",
    "    #Realizar videocaptura: Iniciar la cámara, \"0\" para la cámara incorporada y \"1\" para la cámara USB conectada.\n",
    "    #cap = cv2.VideoCapture(0) #visualizar por la webcam en tiempo real \n",
    "    cap = cv2.VideoCapture(\"Videos/fire.mp4\") #visualizar video grabado 1\n",
    "    #cap = cv2.VideoCapture(\"Videos/fire2.mp4\") #visualizar video grabado 2\n",
    "    #cap = cv2.VideoCapture(\"Videos/fire3.mp4\") #visualizar video grabado 3\n",
    "    \n",
    "    \n",
    "    #Leer nuestro modelo\n",
    "    model = YOLO(\"Modelos/fire_model_and_smoke.pt\") #seleccionamos el modelo de YOLO y lo instanciamos\n",
    "\n",
    "    # Se listan las clases que tiene nuestro modelo (en el orden del data.yaml durante el entrenamiento)\n",
    "    classnames = ['fire', 'default', 'smoke'] # Ahora tenemos tres clases\n",
    "\n",
    "    # Contador global para la clase \"fire\"\n",
    "    fire_count = 0\n",
    "    \n",
    "    while cap.isOpened():\n",
    "        status, frame = cap.read() #iniciamos la captura de imagenes y la guardamos en la variable frame\n",
    "\n",
    "        if not status: \n",
    "            break\n",
    "            \n",
    "        result = model.predict(frame) # stream = True -> se utiliza para decir que vamos a iterar sobre los frames\n",
    "        \n",
    "        # Obtener la información de las bounding boxes (bboxes), la confianza y los nombres de clases detectados para operar con ellos. \n",
    "        for info in result:  \n",
    "            boxes = info.boxes  # Ahora Class será 0 si se detecta 'fire', 1 si se detecta 'default', y 2 si se detecta 'smoke'\n",
    "                \n",
    "            for box in boxes: \n",
    "                confidence = box.conf[0] \n",
    "                confidence = math.ceil(confidence * 100) \n",
    "                Class = int(box.cls[0])\n",
    "                   \n",
    "                if confidence > 10: \n",
    "                    x1, y1, x2, y2 = box.xyxy[0] \n",
    "                    x1, y1, x2, y2 = int(x1), int(y1), int(x2), int(y2) \n",
    "                    cv2.rectangle(frame, (x1, y1), (x2, y2), (0, 0, 255), 5) \n",
    "                        \n",
    "                    if Class == 0: # Si se detecta 'fire'\n",
    "                        fire_count += 1 #aumentamos el contador\n",
    "                        cvzone.putTextRect(frame, f'{classnames[Class]} {confidence}%', [x1 + 8, y1 + 100], scale=1.5, thickness=2)\n",
    "                        \n",
    "                        # Iniciar la alarma en un hilo\n",
    "                        threading.Thread(target=alarma_incendio).start()\n",
    "\n",
    "                        #Mandar mensaje por telegram\n",
    "                        if fire_count == 1: #manda el mensaje si detecta que el contador vale 1\n",
    "                            threading.Thread(target=enviar_mensaje_fuego_telegram).start()\n",
    "                            \n",
    "                        elif fire_count == 440: #El numero se elige dependiendo del tiempo que quieras entre mensajes, en este caso el número 440 son 60s aprox si el fuego es constante.\n",
    "                            threading.Thread(target=enviar_mensaje_fuego_telegram).start()\n",
    "                            fire_count = 2 #resetea el contador a 2\n",
    "                    \n",
    "                    elif Class == 2: # Si se detecta 'smoke'\n",
    "                        cvzone.putTextRect(frame, f'{classnames[Class]} {confidence}%', [x1 + 8, y1 + 100], scale=1.5, thickness=2)        \n",
    "            \n",
    "        cv2.imshow(\"Deteccion de fuego\", frame) #mostramos el frame con los resultados ploteados\n",
    "                  \n",
    "        if cv2.waitKey(1) & 0xFF == ord(\"q\"): #Para cerrar la visualización pulsar la letra \"Q\"\n",
    "            break\n",
    "\n",
    "    cap.release()\n",
    "    cv2.destroyAllWindows()"
   ]
  },
  {
   "cell_type": "markdown",
   "metadata": {},
   "source": [
    "## 5. Detección de caídas de personas"
   ]
  },
  {
   "cell_type": "code",
   "execution_count": null,
   "metadata": {},
   "outputs": [],
   "source": [
    "if __name__ == '__main__':\n",
    "    \n",
    "    #Realizar videocaptura: Iniciar la cámara, \"0\" para la cámara incorporada y \"1\" para la cámara USB conectada.\n",
    "    #cap = cv2.VideoCapture(0) #visualizar por la webcam en tiempo real \n",
    "    cap = cv2.VideoCapture(\"Videos/fall.mp4\") #visualizar video grabado de caidas\n",
    "    \n",
    "    #Leer nuestro modelo\n",
    "    model = YOLO(\"Modelos/yolov8s.pt\") #seleccionamos el modelo de YOLO y lo instanciamos\n",
    "\n",
    "    #Se listan las clases que tiene nuestro modelo (en el orden del archivo.txt con todas las clases del modelo)\n",
    "    classnames = []\n",
    "    with open('classes_model_fall_person.txt', 'r') as f:\n",
    "        classnames = f.read().splitlines()\n",
    "    \n",
    "    # Contador global para las caidas\n",
    "    fall_count = 0\n",
    "    \n",
    "    while cap.isOpened():\n",
    "        status, frame = cap.read() #iniciamos la captura de imagenes y la guardamos en la variable frame\n",
    "\n",
    "        if not status: #si no hay captura de imagenes, sale del bucle\n",
    "            break\n",
    "\n",
    "        results = model.predict(frame) #pasamos los frames por modelo de YOLO y lo guardamos en la variable result\n",
    "        \n",
    "        for info in results:\n",
    "            parameters = info.boxes #guardamos en parameters la información de las bounding boxes\n",
    "            for box in parameters:\n",
    "                #ponemos que las nuevas coordenadas de la nueva bounding box sean la de la vieja\n",
    "                x1, y1, x2, y2 = box.xyxy[0]\n",
    "                x1, y1, x2, y2 = int(x1), int(y1), int(x2), int(y2)\n",
    "                #guardamos la confianza del objeto detectado\n",
    "                confidence = box.conf[0]\n",
    "                #detectamos la clase del objeto detectado\n",
    "                class_detect = box.cls[0]\n",
    "                class_detect = int(class_detect)\n",
    "                #Se utiliza el número de clase para obtener el nombre de la clase a partir de la lista classnames\n",
    "                class_detect = classnames[class_detect]\n",
    "                #Se calcula el porcentaje de confianza de la detección y se redondea hacia arriba.\n",
    "                conf = math.ceil(confidence * 100)\n",
    "        \n",
    "        \n",
    "                #Implementamos la detección de caida usando las coordenadas x1,y1,x2\n",
    "                height = y2 - y1 #Se calcula la altura del cuadro delimitador.\n",
    "                width = x2 - x1 #Se calcula el ancho del cuadro delimitador.\n",
    "                threshold  = height - width #Se calcula la diferencia entre la altura y el ancho del cuadro delimitador.\n",
    "\n",
    "                #Si la confianza es mayor al 80% y la clase detectada es 'persona' se plotea la detección\n",
    "                if conf > 80 and class_detect == 'person': \n",
    "                    cvzone.cornerRect(frame, [x1, y1, width, height], l=30, rt=6) #Se dibuja un cuadro delimitador con esquinas redondeadas alrededor del objeto detectado.\n",
    "                    cvzone.putTextRect(frame, f'{class_detect}', [x1 + 8, y1 - 12], thickness=2, scale=2) #Se muestra el nombre de la clase (\"person\") en el cuadro delimitador.\n",
    "\n",
    "                #Si la diferencia entre la altura y el ancho del cuadro delimitador es negativa, se indica una posible caída.\n",
    "                if threshold < 0:\n",
    "                    cvzone.putTextRect(frame, 'Caida detectada', [height, width], thickness=2, scale=2)\n",
    "                    fall_count += 1\n",
    "                    \n",
    "                    #Mandar mensaje por telegram\n",
    "                    if fall_count == 10: #manda el mensaje si detecta que el contador vale 10\n",
    "                        threading.Thread(target=enviar_mensaje_caida_persona).start()\n",
    "                            \n",
    "                    elif fall_count == 100: #El numero se elige dependiendo del tiempo que quieras entre mensajes, en este caso el número 100 es cuando la persona esta unos 2 segundos en el suelo.\n",
    "                        threading.Thread(target=enviar_mensaje_caida_persona).start()\n",
    "                        fall_count = 11 #resetea el contador a 11\n",
    "                        \n",
    "                #Si no pasa    \n",
    "                else:pass\n",
    "\n",
    "        cv2.imshow(\"Deteccion de caidas de personas\", frame) #mostramos el frame con los resultados ploteados\n",
    "                  \n",
    "        if cv2.waitKey(1) & 0xFF == ord(\"q\"): #Para cerrar la visualización pulsar la letra \"Q\"\n",
    "            break\n",
    "\n",
    "    cap.release()\n",
    "    cv2.destroyAllWindows()"
   ]
  },
  {
   "cell_type": "markdown",
   "metadata": {},
   "source": [
    "## 6. Bibliografia"
   ]
  },
  {
   "cell_type": "markdown",
   "metadata": {},
   "source": [
    "Link github del modelo de solo fuego: https://github.com/salim4n/Fire_Detection?tab=readme-ov-file"
   ]
  },
  {
   "cell_type": "markdown",
   "metadata": {},
   "source": [
    "Link del github del modelo de fuego y humo: https://github.com/Abonia1/YOLOv8-Fire-and-Smoke-Detection/tree/main"
   ]
  },
  {
   "cell_type": "markdown",
   "metadata": {},
   "source": [
    "Link del github del modelo de detección de caida de personas: https://github.com/Tech-Watt/Fall-Detection/tree/main"
   ]
  }
 ],
 "metadata": {
  "kernelspec": {
   "display_name": "Python 3 (ipykernel)",
   "language": "python",
   "name": "python3"
  },
  "language_info": {
   "codemirror_mode": {
    "name": "ipython",
    "version": 3
   },
   "file_extension": ".py",
   "mimetype": "text/x-python",
   "name": "python",
   "nbconvert_exporter": "python",
   "pygments_lexer": "ipython3",
   "version": "3.9.18"
  }
 },
 "nbformat": 4,
 "nbformat_minor": 4
}
